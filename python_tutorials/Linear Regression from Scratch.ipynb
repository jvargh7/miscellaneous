{
 "cells": [
  {
   "cell_type": "code",
   "execution_count": 23,
   "metadata": {},
   "outputs": [
    {
     "name": "stdout",
     "output_type": "stream",
     "text": [
      "13.866141732283406 382.25984251968515 0.05562959190819605\n"
     ]
    },
    {
     "data": {
      "image/png": "[encoded data removed]",
      "text/plain": [
       "<Figure size 432x288 with 1 Axes>"
      ]
     },
     "metadata": {},
     "output_type": "display_data"
    }
   ],
   "source": [
    "from statistics import mean\n",
    "import numpy as np\n",
    "import matplotlib.pyplot as plt\n",
    "from matplotlib import style\n",
    "style.use('ggplot')\n",
    "\n",
    "sleepTime = np.array([336, 372, 388, 535, 432, 494, 405, 397, 309, 413, 407, 480, 337, 430, 410, 405, 406], dtype=np.float64)\n",
    "mood = np.array([2, 3, 2, 1, 2, 3, 1, 1, 1, 3, 2, 2, 0, 3, 3, 3, 1], dtype=np.float64)\n",
    "\n",
    "def best_fit_slope_and_intercept(xs,ys):\n",
    "    m = (((mean(mood)*mean(sleepTime)) - mean(mood*sleepTime)) /\n",
    "         ((mean(mood)*mean(mood)) - mean(mood*mood)))\n",
    "    \n",
    "    b = mean(sleepTime) - m*mean(mood)\n",
    "    # R-squared: % variance in y explained by model = 1 - Unexplained/Total Variance = 1 - var(residual)/var(y) \n",
    "    # --> 1- sum((y- y_pred)^2)/sum((y-y_mean)^2) \n",
    "    # Numpy has a default function called \"var\" \n",
    "    \n",
    "    # Step 1: Calculate variance of numerator\n",
    "    var_numerator = np.var(sleepTime - (m*mood + b))\n",
    "    \n",
    "    \n",
    "    # Step 2: Calculte variance of denominator\n",
    "    var_denominator = np.var(sleepTime)\n",
    "    \n",
    "    # Step 3: Calculate r_squared\n",
    "    r_sq = 1-  (var_numerator/var_denominator)\n",
    "    \n",
    "    return m, b , r_sq\n",
    "\n",
    "m, b,r_sq = best_fit_slope_and_intercept(mood,sleepTime)\n",
    "regression_line = [(m*x)+b for x in mood]\n",
    "plt.xlabel('mood')\n",
    "plt.ylabel('Sleep Time (min)')\n",
    "print(m,b,r_sq)\n",
    "plt.title('Mood x SleepTime(night before)')\n",
    "plt.scatter(mood,sleepTime,color='#003F72')\n",
    "plt.plot(mood, regression_line)\n",
    "plt.show()\n"
   ]
  },
  {
   "cell_type": "code",
   "execution_count": 24,
   "metadata": {},
   "outputs": [],
   "source": [
    "# To check:\n",
    "from sklearn.linear_model import LinearRegression\n",
    "lm = LinearRegression()\n",
    "# https://stackoverflow.com/questions/18691084/what-does-1-mean-in-numpy-reshape\n",
    "mood2 = mood.reshape(-1,1)\n",
    "sleepTime2 = sleepTime.reshape(-1,1)"
   ]
  },
  {
   "cell_type": "code",
   "execution_count": 25,
   "metadata": {},
   "outputs": [
    {
     "data": {
      "text/plain": [
       "LinearRegression(copy_X=True, fit_intercept=True, n_jobs=1, normalize=False)"
      ]
     },
     "execution_count": 25,
     "metadata": {},
     "output_type": "execute_result"
    }
   ],
   "source": [
    "\n",
    "lm.fit(X=mood2,y=sleepTime2)"
   ]
  },
  {
   "cell_type": "code",
   "execution_count": 26,
   "metadata": {},
   "outputs": [
    {
     "data": {
      "text/plain": [
       "0.05562959190819617"
      ]
     },
     "execution_count": 26,
     "metadata": {},
     "output_type": "execute_result"
    }
   ],
   "source": [
    "# R-squared\n",
    "# https://scikit-learn.org/stable/modules/generated/sklearn.linear_model.LinearRegression.html\n",
    "lm.score(mood2,sleepTime2)"
   ]
  },
  {
   "cell_type": "code",
   "execution_count": null,
   "metadata": {},
   "outputs": [],
   "source": []
  },
  {
   "cell_type": "code",
   "execution_count": null,
   "metadata": {},
   "outputs": [],
   "source": []
  },
  {
   "cell_type": "code",
   "execution_count": null,
   "metadata": {},
   "outputs": [],
   "source": []
  }
 ],
 "metadata": {
  "kernelspec": {
   "display_name": "Python 3",
   "language": "python",
   "name": "python3"
  },
  "language_info": {
   "codemirror_mode": {
    "name": "ipython",
    "version": 3
   },
   "file_extension": ".py",
   "mimetype": "text/x-python",
   "name": "python",
   "nbconvert_exporter": "python",
   "pygments_lexer": "ipython3",
   "version": "3.6.5"
  }
 },
 "nbformat": 4,
 "nbformat_minor": 2
}
